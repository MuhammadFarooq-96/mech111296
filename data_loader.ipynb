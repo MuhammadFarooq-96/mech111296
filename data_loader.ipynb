{
 "cells": [
  {
   "cell_type": "code",
   "execution_count": null,
   "id": "5e641887-a35c-42da-b066-84a7e95c0ae3",
   "metadata": {},
   "outputs": [],
   "source": [
    "# data_loader.py\n",
    "\n",
    "from pyspark.sql import SparkSession\n",
    "\n",
    "def load_data(file_path):\n",
    "    \"\"\"\n",
    "    Load data using PySpark to handle big data efficiently.\n",
    "    \n",
    "    :param file_path: Path to the dataset file (CSV)\n",
    "    :return: Spark DataFrame containing the loaded data\n",
    "    \"\"\"\n",
    "    # Create a SparkSession\n",
    "    spark = SparkSession.builder \\\n",
    "        .appName(\"Supply Chain Quality Control Data Loader\") \\\n",
    "        .getOrCreate()\n",
    "\n",
    "    # Load the CSV file into a DataFrame\n",
    "    df = spark.read.csv(file_path, header=True, inferSchema=True)\n",
    "\n",
    "    return df\n",
    "\n",
    "if __name__ == \"__main__\":\n",
    "    # Example usage\n",
    "    file_path = \"USAID_GHSC-PSM_Health_Commodity_Delivery_Dataset.csv\"\n",
    "    data = load_data(file_path)\n",
    "    data.show(5)"
   ]
  }
 ],
 "metadata": {
  "kernelspec": {
   "display_name": "Python 3 (ipykernel)",
   "language": "python",
   "name": "python3"
  },
  "language_info": {
   "codemirror_mode": {
    "name": "ipython",
    "version": 3
   },
   "file_extension": ".py",
   "mimetype": "text/x-python",
   "name": "python",
   "nbconvert_exporter": "python",
   "pygments_lexer": "ipython3",
   "version": "3.12.2"
  }
 },
 "nbformat": 4,
 "nbformat_minor": 5
}
